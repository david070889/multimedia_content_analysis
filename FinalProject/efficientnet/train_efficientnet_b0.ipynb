{
 "cells": [
  {
   "cell_type": "code",
   "execution_count": 3,
   "id": "76658201-21b1-4002-9367-1333667de884",
   "metadata": {
    "tags": []
   },
   "outputs": [],
   "source": [
    "import os\n",
    "import shutil\n",
    "from torchvision import datasets, transforms, models\n",
    "from torch.utils.data import DataLoader\n",
    "import torch\n",
    "import torch.nn as nn\n",
    "import torch.optim as optim\n",
    "\n",
    "# 資料增強與標準化\n",
    "transform = transforms.Compose([\n",
    "    transforms.Resize(224),\n",
    "    transforms.ToTensor(),\n",
    "    transforms.Normalize(mean=[0.485, 0.456, 0.406], std=[0.229, 0.224, 0.225])\n",
    "])"
   ]
  },
  {
   "cell_type": "code",
   "execution_count": 12,
   "id": "b7dd36d5-92f6-40c8-9fbf-1004a7513bf5",
   "metadata": {
    "tags": []
   },
   "outputs": [],
   "source": [
    "# 加載數據\n",
    "train_dataset = datasets.ImageFolder(root='../dataloader_c23/train', transform=transform)\n",
    "val_dataset = datasets.ImageFolder(root='../dataloader_c23/validation', transform=transform)\n",
    "test_dataset = datasets.ImageFolder(root='../dataloader_c23/test', transform=transform)\n",
    "\n",
    "train_loader = DataLoader(train_dataset, batch_size=256, shuffle=True, num_workers=2)\n",
    "val_loader = DataLoader(val_dataset, batch_size=256, shuffle=False,  num_workers=2)\n",
    "test_loader = DataLoader(test_dataset, batch_size=256, shuffle=False,  num_workers=2)"
   ]
  },
  {
   "cell_type": "code",
   "execution_count": 13,
   "id": "3293ead7-b76b-4e01-b925-60eb76e83fd3",
   "metadata": {
    "tags": []
   },
   "outputs": [
    {
     "name": "stdout",
     "output_type": "stream",
     "text": [
      "using cuda device.\n"
     ]
    }
   ],
   "source": [
    "import timm\n",
    "\n",
    "# 設定設備\n",
    "device = torch.device('cuda' if torch.cuda.is_available() else 'cpu')\n",
    "print(\"using {} device.\".format(device))\n",
    "\n",
    "# 加載預訓練的 efficientnet_lite 大模型\n",
    "model = timm.create_model(\"hf_hub:timm/efficientnet_b0.ra_in1k\", pretrained=True, num_classes = 2)\n",
    "model = model.to(device)\n",
    "\n",
    "# 定義損失函數和優化器\n",
    "criterion = nn.CrossEntropyLoss()\n",
    "optimizer = optim.Adam(model.parameters(), lr=0.001)"
   ]
  },
  {
   "cell_type": "code",
   "execution_count": 14,
   "id": "a97e971c-f721-4ea4-ba93-4c41c5635669",
   "metadata": {
    "tags": []
   },
   "outputs": [],
   "source": [
    "# 訓練函數\n",
    "def train(epoch, epochs, model, train_loader, optimizer, loss_function, device):\n",
    "    model.train()\n",
    "    running_loss = 0.0\n",
    "    correct = 0\n",
    "    total = 0\n",
    "    train_bar = tqdm(train_loader, file=sys.stdout)\n",
    "    \n",
    "    for step, data in enumerate(train_bar):\n",
    "        images, labels = data\n",
    "        images, labels = images.to(device), labels.to(device)  # 確保數據在正確的設備上\n",
    "        optimizer.zero_grad()\n",
    "        logits = model(images)  # 模型輸出\n",
    "        loss = loss_function(logits, labels)\n",
    "        loss.backward()\n",
    "        optimizer.step()\n",
    "\n",
    "        running_loss += loss.item()\n",
    "\n",
    "        # 計算準確率\n",
    "        _, predicted = torch.max(logits, 1)\n",
    "        total += labels.size(0)\n",
    "        correct += (predicted == labels).sum().item()\n",
    "\n",
    "        train_bar.desc = \"train epoch[{}/{}] loss:{:.3f}\".format(epoch + 1, epochs, loss)\n",
    "    running_loss = running_loss / 282\n",
    "    accuracy = 100. * correct / total\n",
    "    return running_loss, accuracy"
   ]
  },
  {
   "cell_type": "code",
   "execution_count": 15,
   "id": "d0624bbd-4e16-4fd0-9869-f24beecbe6f7",
   "metadata": {
    "tags": []
   },
   "outputs": [],
   "source": [
    "# 驗證函數\n",
    "def validate(epoch, epochs, model, validate_loader, loss_function, device):\n",
    "    model.eval()\n",
    "    acc = 0.0\n",
    "    val_loss = 0.0\n",
    "    val_num = len(validate_loader.dataset)\n",
    "    \n",
    "    with torch.no_grad():\n",
    "        val_bar = tqdm(validate_loader, file=sys.stdout)\n",
    "        for val_data in val_bar:\n",
    "            val_images, val_labels = val_data\n",
    "            val_images, val_labels = val_images.to(device), val_labels.to(device)\n",
    "            outputs = model(val_images)\n",
    "            loss = loss_function(outputs, val_labels)\n",
    "            val_loss += loss.item() * val_images.size(0)\n",
    "\n",
    "            predict_y = torch.max(outputs, dim=1)[1]\n",
    "            acc += torch.eq(predict_y, val_labels).sum().item()\n",
    "\n",
    "            val_bar.desc = \"valid epoch[{}/{}]\".format(epoch + 1, epochs)\n",
    "    \n",
    "    val_loss /= val_num\n",
    "    val_accurate = acc / val_num\n",
    "    return val_loss, val_accurate"
   ]
  },
  {
   "cell_type": "code",
   "execution_count": 16,
   "id": "ca019f49-e8c6-4589-880e-d0097feec0ae",
   "metadata": {
    "tags": []
   },
   "outputs": [
    {
     "name": "stdout",
     "output_type": "stream",
     "text": [
      "train epoch[1/25] loss:0.411: 100%|██████████| 282/282 [04:18<00:00,  1.09it/s]\n",
      "valid epoch[1/25]: 100%|██████████| 55/55 [00:19<00:00,  2.79it/s]\n",
      "[epoch 1] train_loss: 0.387  train_accuracy: 86.017\n",
      "[epoch 1] val_loss: 0.396  val_accuracy: 0.860\n",
      "Training_Time: 278.47 seconds\n",
      "train epoch[2/25] loss:0.091: 100%|██████████| 282/282 [04:26<00:00,  1.06it/s]\n",
      "valid epoch[2/25]: 100%|██████████| 55/55 [00:19<00:00,  2.77it/s]\n",
      "[epoch 2] train_loss: 0.111  train_accuracy: 95.649\n",
      "[epoch 2] val_loss: 0.412  val_accuracy: 0.867\n",
      "Training_Time: 286.53 seconds\n",
      "train epoch[3/25] loss:0.051: 100%|██████████| 282/282 [04:15<00:00,  1.10it/s]\n",
      "valid epoch[3/25]: 100%|██████████| 55/55 [00:19<00:00,  2.76it/s]\n",
      "[epoch 3] train_loss: 0.072  train_accuracy: 97.224\n",
      "[epoch 3] val_loss: 0.482  val_accuracy: 0.858\n",
      "Training_Time: 275.26 seconds\n",
      "train epoch[4/25] loss:0.038: 100%|██████████| 282/282 [04:28<00:00,  1.05it/s]\n",
      "valid epoch[4/25]: 100%|██████████| 55/55 [00:21<00:00,  2.55it/s]\n",
      "[epoch 4] train_loss: 0.051  train_accuracy: 98.118\n",
      "[epoch 4] val_loss: 0.706  val_accuracy: 0.833\n",
      "Training_Time: 290.44 seconds\n",
      "train epoch[5/25] loss:0.070: 100%|██████████| 282/282 [05:18<00:00,  1.13s/it]\n",
      "valid epoch[5/25]: 100%|██████████| 55/55 [00:21<00:00,  2.51it/s]\n",
      "[epoch 5] train_loss: 0.044  train_accuracy: 98.339\n",
      "[epoch 5] val_loss: 0.452  val_accuracy: 0.876\n",
      "Training_Time: 340.36 seconds\n",
      "train epoch[6/25] loss:0.118: 100%|██████████| 282/282 [06:35<00:00,  1.40s/it]\n",
      "valid epoch[6/25]: 100%|██████████| 55/55 [00:21<00:00,  2.59it/s]\n",
      "[epoch 6] train_loss: 0.040  train_accuracy: 98.521\n",
      "[epoch 6] val_loss: 0.700  val_accuracy: 0.855\n",
      "Training_Time: 417.17 seconds\n",
      "train epoch[7/25] loss:0.096: 100%|██████████| 282/282 [05:04<00:00,  1.08s/it]\n",
      "valid epoch[7/25]: 100%|██████████| 55/55 [00:20<00:00,  2.74it/s]\n",
      "[epoch 7] train_loss: 0.036  train_accuracy: 98.658\n",
      "[epoch 7] val_loss: 0.413  val_accuracy: 0.892\n",
      "Training_Time: 324.94 seconds\n",
      "train epoch[8/25] loss:0.028: 100%|██████████| 282/282 [04:16<00:00,  1.10it/s]\n",
      "valid epoch[8/25]: 100%|██████████| 55/55 [00:20<00:00,  2.70it/s]\n",
      "[epoch 8] train_loss: 0.029  train_accuracy: 98.917\n",
      "[epoch 8] val_loss: 0.589  val_accuracy: 0.889\n",
      "Training_Time: 277.00 seconds\n",
      "train epoch[9/25] loss:0.069: 100%|██████████| 282/282 [04:15<00:00,  1.10it/s]\n",
      "valid epoch[9/25]: 100%|██████████| 55/55 [00:20<00:00,  2.69it/s]\n",
      "[epoch 9] train_loss: 0.032  train_accuracy: 98.853\n",
      "[epoch 9] val_loss: 0.421  val_accuracy: 0.897\n",
      "Training_Time: 276.52 seconds\n",
      "train epoch[10/25] loss:0.027: 100%|██████████| 282/282 [04:16<00:00,  1.10it/s]\n",
      "valid epoch[10/25]: 100%|██████████| 55/55 [00:20<00:00,  2.66it/s]\n",
      "[epoch 10] train_loss: 0.029  train_accuracy: 98.950\n",
      "[epoch 10] val_loss: 0.658  val_accuracy: 0.869\n",
      "Training_Time: 277.06 seconds\n",
      "train epoch[11/25] loss:0.038: 100%|██████████| 282/282 [04:16<00:00,  1.10it/s]\n",
      "valid epoch[11/25]: 100%|██████████| 55/55 [00:20<00:00,  2.70it/s]\n",
      "[epoch 11] train_loss: 0.027  train_accuracy: 99.082\n",
      "[epoch 11] val_loss: 0.506  val_accuracy: 0.890\n",
      "Training_Time: 276.50 seconds\n",
      "train epoch[12/25] loss:0.077: 100%|██████████| 282/282 [04:27<00:00,  1.05it/s]\n",
      "valid epoch[12/25]: 100%|██████████| 55/55 [00:21<00:00,  2.55it/s]\n",
      "[epoch 12] train_loss: 0.023  train_accuracy: 99.222\n",
      "[epoch 12] val_loss: 0.603  val_accuracy: 0.889\n",
      "Training_Time: 289.10 seconds\n",
      "train epoch[13/25] loss:0.011: 100%|██████████| 282/282 [05:08<00:00,  1.09s/it]\n",
      "valid epoch[13/25]: 100%|██████████| 55/55 [00:22<00:00,  2.41it/s]\n",
      "[epoch 13] train_loss: 0.023  train_accuracy: 99.156\n",
      "[epoch 13] val_loss: 0.528  val_accuracy: 0.903\n",
      "Training_Time: 331.40 seconds\n",
      "train epoch[14/25] loss:0.018: 100%|██████████| 282/282 [05:36<00:00,  1.19s/it]\n",
      "valid epoch[14/25]: 100%|██████████| 55/55 [00:22<00:00,  2.50it/s]\n",
      "[epoch 14] train_loss: 0.021  train_accuracy: 99.263\n",
      "[epoch 14] val_loss: 0.563  val_accuracy: 0.894\n",
      "Training_Time: 358.22 seconds\n",
      "train epoch[15/25] loss:0.051: 100%|██████████| 282/282 [04:44<00:00,  1.01s/it]\n",
      "valid epoch[15/25]: 100%|██████████| 55/55 [00:21<00:00,  2.58it/s]\n",
      "[epoch 15] train_loss: 0.022  train_accuracy: 99.197\n",
      "[epoch 15] val_loss: 0.923  val_accuracy: 0.861\n",
      "Training_Time: 305.67 seconds\n",
      "train epoch[16/25] loss:0.027: 100%|██████████| 282/282 [04:44<00:00,  1.01s/it]\n",
      "valid epoch[16/25]: 100%|██████████| 55/55 [00:19<00:00,  2.75it/s]\n",
      "[epoch 16] train_loss: 0.022  train_accuracy: 99.269\n",
      "[epoch 16] val_loss: 0.465  val_accuracy: 0.897\n",
      "Training_Time: 304.04 seconds\n",
      "train epoch[17/25] loss:0.033: 100%|██████████| 282/282 [04:17<00:00,  1.10it/s]\n",
      "valid epoch[17/25]: 100%|██████████| 55/55 [00:22<00:00,  2.44it/s]\n",
      "[epoch 17] train_loss: 0.018  train_accuracy: 99.382\n",
      "[epoch 17] val_loss: 0.412  val_accuracy: 0.909\n",
      "Training_Time: 279.62 seconds\n",
      "train epoch[18/25] loss:0.013: 100%|██████████| 282/282 [05:12<00:00,  1.11s/it]\n",
      "valid epoch[18/25]: 100%|██████████| 55/55 [00:22<00:00,  2.44it/s]\n",
      "[epoch 18] train_loss: 0.018  train_accuracy: 99.401\n",
      "[epoch 18] val_loss: 0.518  val_accuracy: 0.895\n",
      "Training_Time: 335.40 seconds\n",
      "train epoch[19/25] loss:0.091: 100%|██████████| 282/282 [04:41<00:00,  1.00it/s]\n",
      "valid epoch[19/25]: 100%|██████████| 55/55 [00:21<00:00,  2.58it/s]\n",
      "[epoch 19] train_loss: 0.019  train_accuracy: 99.349\n",
      "[epoch 19] val_loss: 0.450  val_accuracy: 0.906\n",
      "Training_Time: 302.81 seconds\n",
      "train epoch[20/25] loss:0.005: 100%|██████████| 282/282 [05:26<00:00,  1.16s/it]\n",
      "valid epoch[20/25]: 100%|██████████| 55/55 [00:22<00:00,  2.48it/s]\n",
      "[epoch 20] train_loss: 0.021  train_accuracy: 99.239\n",
      "[epoch 20] val_loss: 0.514  val_accuracy: 0.885\n",
      "Training_Time: 349.06 seconds\n",
      "train epoch[21/25] loss:0.004: 100%|██████████| 282/282 [05:19<00:00,  1.13s/it]\n",
      "valid epoch[21/25]: 100%|██████████| 55/55 [00:20<00:00,  2.67it/s]\n",
      "[epoch 21] train_loss: 0.014  train_accuracy: 99.551\n",
      "[epoch 21] val_loss: 0.650  val_accuracy: 0.905\n",
      "Training_Time: 339.83 seconds\n",
      "train epoch[22/25] loss:0.012: 100%|██████████| 282/282 [04:35<00:00,  1.02it/s]\n",
      "valid epoch[22/25]: 100%|██████████| 55/55 [00:21<00:00,  2.53it/s]\n",
      "[epoch 22] train_loss: 0.014  train_accuracy: 99.481\n",
      "[epoch 22] val_loss: 0.668  val_accuracy: 0.890\n",
      "Training_Time: 297.12 seconds\n",
      "train epoch[23/25] loss:0.004: 100%|██████████| 282/282 [05:45<00:00,  1.23s/it]\n",
      "valid epoch[23/25]: 100%|██████████| 55/55 [00:21<00:00,  2.57it/s]\n",
      "[epoch 23] train_loss: 0.017  train_accuracy: 99.428\n",
      "[epoch 23] val_loss: 0.472  val_accuracy: 0.893\n",
      "Training_Time: 367.31 seconds\n",
      "train epoch[24/25] loss:0.004: 100%|██████████| 282/282 [04:57<00:00,  1.06s/it]\n",
      "valid epoch[24/25]: 100%|██████████| 55/55 [00:20<00:00,  2.62it/s]\n",
      "[epoch 24] train_loss: 0.016  train_accuracy: 99.478\n",
      "[epoch 24] val_loss: 0.677  val_accuracy: 0.868\n",
      "Training_Time: 318.68 seconds\n",
      "train epoch[25/25] loss:0.140: 100%|██████████| 282/282 [04:43<00:00,  1.00s/it]\n",
      "valid epoch[25/25]: 100%|██████████| 55/55 [00:20<00:00,  2.73it/s]\n",
      "[epoch 25] train_loss: 0.017  train_accuracy: 99.418\n",
      "[epoch 25] val_loss: 0.421  val_accuracy: 0.909\n",
      "Training_Time: 303.32 seconds\n",
      "訓練完成\n"
     ]
    }
   ],
   "source": [
    "import time\n",
    "import sys\n",
    "from tqdm import tqdm\n",
    "# 訓練和驗證模型\n",
    "num_epochs = 25\n",
    "best_acc = 0.0\n",
    "train_steps = len(train_loader)\n",
    "save_path = 'best_efficientnet_b0.pth'\n",
    "t_l, t_a = [], []\n",
    "v_l, v_a = [], []\n",
    "for epoch in range(num_epochs):\n",
    "    start_time = time.time()\n",
    "    train_loss, train_accuracy = train(epoch, num_epochs, model, train_loader, optimizer, criterion, device)\n",
    "    val_loss, val_accurate = validate(epoch, num_epochs, model, val_loader, criterion, device)\n",
    "    t_l.append(train_loss)\n",
    "    t_a.append(train_accuracy)\n",
    "    v_l.append(val_loss)\n",
    "    v_a.append(val_accurate)\n",
    "    \n",
    "    print('[epoch %d] train_loss: %.3f  train_accuracy: %.3f' %\n",
    "            (epoch + 1, train_loss, train_accuracy))\n",
    "    print('[epoch %d] val_loss: %.3f  val_accuracy: %.3f' %\n",
    "            (epoch + 1, val_loss, val_accurate))\n",
    "    \n",
    "    if val_accurate > best_acc:\n",
    "        best_acc = val_accurate\n",
    "        torch.save(model.state_dict(), save_path)\n",
    "    end_time = time.time()\n",
    "    print(f'Training_Time: {end_time - start_time:.2f} seconds')\n",
    "    \n",
    "print('訓練完成')"
   ]
  },
  {
   "cell_type": "code",
   "execution_count": 17,
   "id": "022474e4-502c-400c-99a0-58619d0fb525",
   "metadata": {
    "tags": []
   },
   "outputs": [
    {
     "name": "stdout",
     "output_type": "stream",
     "text": [
      "Test Acc: 0.9129\n"
     ]
    }
   ],
   "source": [
    "# 測試模型\n",
    "model.load_state_dict(torch.load('best_efficientnet_b0.pth'))\n",
    "model.eval()\n",
    "test_running_corrects = 0\n",
    "\n",
    "with torch.no_grad():\n",
    "    for inputs, labels in test_loader:\n",
    "        inputs = inputs.to(device)\n",
    "        labels = labels.to(device)\n",
    "\n",
    "        outputs = model(inputs)\n",
    "        _, preds = torch.max(outputs, 1)\n",
    "        test_running_corrects += torch.sum(preds == labels.data)\n",
    "\n",
    "test_acc = test_running_corrects.double() / len(test_dataset)\n",
    "print(f'Test Acc: {test_acc:.4f}')"
   ]
  },
  {
   "cell_type": "code",
   "execution_count": 18,
   "id": "7b61e2ee-3dce-46ea-8cac-13cb460ebf58",
   "metadata": {
    "tags": []
   },
   "outputs": [],
   "source": [
    "def save_metrics_to_file(t_l, t_a, v_l, v_a, filename='metrics.txt'):\n",
    "    with open(filename, 'w') as file:\n",
    "        file.write(\"Train Loss:\\n\")\n",
    "        for item in t_l:\n",
    "            file.write(f\"{item}\\n\")\n",
    "        \n",
    "        file.write(\"Train Accuracy:\\n\")\n",
    "        for item in t_a:\n",
    "            file.write(f\"{item}\\n\")\n",
    "        \n",
    "        file.write(\"Validation Loss:\\n\")\n",
    "        for item in v_l:\n",
    "            file.write(f\"{item}\\n\")\n",
    "        \n",
    "        file.write(\"Validation Accuracy:\\n\")\n",
    "        for item in v_a:\n",
    "            file.write(f\"{item}\\n\")"
   ]
  },
  {
   "cell_type": "code",
   "execution_count": 19,
   "id": "124ba491-d6d4-4f3b-94c3-e6dd38c39865",
   "metadata": {
    "tags": []
   },
   "outputs": [],
   "source": [
    "# 假設 t_l, t_a, v_l, v_a 已經被填充\n",
    "filename = 'efficientnet_b0.txt'\n",
    "save_metrics_to_file(t_l, t_a, v_l, v_a, filename)"
   ]
  },
  {
   "cell_type": "code",
   "execution_count": 20,
   "id": "290eec95-152f-4018-afa3-dcd17c98e28c",
   "metadata": {},
   "outputs": [
    {
     "name": "stdout",
     "output_type": "stream",
     "text": [
      "Test Acc of Celeb DF V2: 0.7501\n"
     ]
    }
   ],
   "source": [
    "test_celeb_dataset = datasets.ImageFolder(root='../archive/extracted_frames', transform=transform)\n",
    "celeb_loader = DataLoader(test_celeb_dataset, batch_size=256, shuffle=False, num_workers=2)\n",
    "\n",
    "# 測試模型\n",
    "model.load_state_dict(torch.load('best_efficientnet_b0.pth'))\n",
    "model.eval()\n",
    "test_running_corrects = 0\n",
    "\n",
    "with torch.no_grad():\n",
    "    for inputs, labels in celeb_loader:\n",
    "        inputs = inputs.to(device)\n",
    "        labels = labels.to(device)\n",
    "\n",
    "        outputs = model(inputs)\n",
    "        _, preds = torch.max(outputs, 1)\n",
    "        test_running_corrects += torch.sum(preds == labels.data)\n",
    "\n",
    "test_acc = test_running_corrects.double() / len(test_dataset)\n",
    "print(f'Test Acc of Celeb DF V2: {test_acc:.4f}')"
   ]
  },
  {
   "cell_type": "code",
   "execution_count": 22,
   "id": "9a182fd1-2507-46f4-81c0-679f98d3f81f",
   "metadata": {},
   "outputs": [],
   "source": [
    "# 使用 TorchScript 將模型保存為 .pt 文件\n",
    "import torch\n",
    "from timm import create_model\n",
    "\n",
    "# 創建模型\n",
    "model = create_model('efficientnet_b0', pretrained=False, num_classes=2)\n",
    "model.load_state_dict(torch.load('best_efficientnet_b0.pth'))\n",
    "model.eval()\n",
    "\n",
    "example_input = torch.rand(1, 3, 224, 224)\n",
    "traced_script_module = torch.jit.trace(model, example_input)\n",
    "torch.jit.save(traced_script_module, 'efficientnet_jit.pt')"
   ]
  },
  {
   "cell_type": "code",
   "execution_count": null,
   "id": "2fc462a8-2a75-4132-8f6b-09cf862a5749",
   "metadata": {},
   "outputs": [],
   "source": []
  }
 ],
 "metadata": {
  "kernelspec": {
   "display_name": "dl",
   "language": "python",
   "name": "dl"
  },
  "language_info": {
   "codemirror_mode": {
    "name": "ipython",
    "version": 3
   },
   "file_extension": ".py",
   "mimetype": "text/x-python",
   "name": "python",
   "nbconvert_exporter": "python",
   "pygments_lexer": "ipython3",
   "version": "3.11.8"
  }
 },
 "nbformat": 4,
 "nbformat_minor": 5
}
