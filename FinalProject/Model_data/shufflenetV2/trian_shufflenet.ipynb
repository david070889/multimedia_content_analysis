{
 "cells": [
  {
   "cell_type": "code",
   "execution_count": 8,
   "id": "41db0c17-1ab9-410b-aa6d-52215dd724d3",
   "metadata": {
    "tags": []
   },
   "outputs": [],
   "source": [
    "import os\n",
    "import shutil\n",
    "from torchvision import datasets, transforms, models\n",
    "from torch.utils.data import DataLoader\n",
    "import torch\n",
    "import torch.nn as nn\n",
    "import torch.optim as optim\n",
    "\n",
    "# 資料增強與標準化\n",
    "transform = transforms.Compose([\n",
    "    transforms.Resize(224),\n",
    "    transforms.ToTensor(),\n",
    "    transforms.Normalize(mean=[0.485, 0.456, 0.406], std=[0.229, 0.224, 0.225])\n",
    "])"
   ]
  },
  {
   "cell_type": "code",
   "execution_count": 9,
   "id": "de59f07c-b175-4012-bc83-3b8ed5c3d2fb",
   "metadata": {
    "tags": []
   },
   "outputs": [],
   "source": [
    "# 加載數據\n",
    "train_dataset = datasets.ImageFolder(root='../dataloader_c23/train', transform=transform)\n",
    "val_dataset = datasets.ImageFolder(root='../dataloader_c23/validation', transform=transform)\n",
    "test_dataset = datasets.ImageFolder(root='../dataloader_c23/test', transform=transform)\n",
    "\n",
    "train_loader = DataLoader(train_dataset, batch_size=256, shuffle=True, num_workers=2)\n",
    "val_loader = DataLoader(val_dataset, batch_size=256, shuffle=False, num_workers=2)\n",
    "test_loader = DataLoader(test_dataset, batch_size=256, shuffle=False, num_workers=2)"
   ]
  },
  {
   "cell_type": "code",
   "execution_count": 15,
   "id": "c647690b-b915-4883-9f14-27e30cd8edd3",
   "metadata": {
    "tags": []
   },
   "outputs": [
    {
     "name": "stdout",
     "output_type": "stream",
     "text": [
      "using cuda device.\n"
     ]
    }
   ],
   "source": [
    "import tqdm as notebook_tqdm\n",
    "from shufflenetV2 import shufflenet_v2_x1_5\n",
    "\n",
    "# 設定設備\n",
    "device = torch.device('cuda' if torch.cuda.is_available() else 'cpu')\n",
    "print(\"using {} device.\".format(device))\n",
    "\n",
    "# 加載預訓練的 MobileNetV3 大模型\n",
    "model = shufflenet_v2_x1_5(num_classes = 2)\n",
    "checkpoint = torch.load('shufflenetv2_x1_5-3c479a10.pth', map_location=device)\n",
    "\n",
    "# 刪除分類層權重\n",
    "pre_dict = {k: v for k, v in checkpoint.items() if k in model.state_dict() and model.state_dict()[k].numel() == v.numel()}\n",
    "missing_keys, unexpected_keys = model.load_state_dict(pre_dict, strict=False)\n",
    "\n",
    "model = model.to(device)\n",
    "\n",
    "# 定義損失函數和優化器\n",
    "criterion = nn.CrossEntropyLoss()\n",
    "optimizer = optim.Adam(model.parameters(), lr=0.001)"
   ]
  },
  {
   "cell_type": "code",
   "execution_count": 11,
   "id": "9d82a9cc-1354-4cda-8f94-edce34123705",
   "metadata": {
    "tags": []
   },
   "outputs": [],
   "source": [
    "# 訓練函數\n",
    "def train(epoch, epochs, model, train_loader, optimizer, loss_function, device):\n",
    "    model.train()\n",
    "    running_loss = 0.0\n",
    "    correct = 0\n",
    "    total = 0\n",
    "    train_bar = tqdm(train_loader, file=sys.stdout)\n",
    "    \n",
    "    for step, data in enumerate(train_bar):\n",
    "        images, labels = data\n",
    "        images, labels = images.to(device), labels.to(device)  # 確保數據在正確的設備上\n",
    "        optimizer.zero_grad()\n",
    "        logits = model(images)  # 模型輸出\n",
    "        loss = loss_function(logits, labels)\n",
    "        loss.backward()\n",
    "        optimizer.step()\n",
    "\n",
    "        running_loss += loss.item()\n",
    "\n",
    "        # 計算準確率\n",
    "        _, predicted = torch.max(logits, 1)\n",
    "        total += labels.size(0)\n",
    "        correct += (predicted == labels).sum().item()\n",
    "\n",
    "        train_bar.desc = \"train epoch[{}/{}] loss:{:.3f}\".format(epoch + 1, epochs, loss)\n",
    "    running_loss = running_loss / len(train_loader)\n",
    "    accuracy = 100. * correct / total\n",
    "    return running_loss, accuracy"
   ]
  },
  {
   "cell_type": "code",
   "execution_count": 14,
   "id": "3208241a-07c9-481d-8cb6-c38e8b476aba",
   "metadata": {
    "tags": []
   },
   "outputs": [],
   "source": [
    "# 驗證函數\n",
    "def validate(epoch, epochs, model, validate_loader, loss_function, device):\n",
    "    model.eval()\n",
    "    acc = 0.0\n",
    "    val_loss = 0.0\n",
    "    val_num = len(validate_loader.dataset)\n",
    "    \n",
    "    with torch.no_grad():\n",
    "        val_bar = tqdm(validate_loader, file=sys.stdout)\n",
    "        for val_data in val_bar:\n",
    "            val_images, val_labels = val_data\n",
    "            val_images, val_labels = val_images.to(device), val_labels.to(device)\n",
    "            outputs = model(val_images)\n",
    "            loss = loss_function(outputs, val_labels)\n",
    "            val_loss += loss.item() * val_images.size(0)\n",
    "\n",
    "            predict_y = torch.max(outputs, dim=1)[1]\n",
    "            acc += torch.eq(predict_y, val_labels).sum().item()\n",
    "\n",
    "            val_bar.desc = \"valid epoch[{}/{}]\".format(epoch + 1, epochs)\n",
    "    \n",
    "    val_loss /= val_num\n",
    "    val_accurate = acc / val_num\n",
    "    return val_loss, val_accurate"
   ]
  },
  {
   "cell_type": "code",
   "execution_count": 16,
   "id": "8a0e321d-c288-4db6-9af8-db0685d64abd",
   "metadata": {
    "tags": []
   },
   "outputs": [
    {
     "name": "stdout",
     "output_type": "stream",
     "text": [
      "train epoch[1/25] loss:0.207: 100%|██████████| 282/282 [01:17<00:00,  3.62it/s]\n",
      "valid epoch[1/25]: 100%|██████████| 55/55 [00:21<00:00,  2.59it/s]\n",
      "[epoch 1] train_loss: 0.292  train_accuracy: 86.833\n",
      "[epoch 1] val_loss: 0.381  val_accuracy: 0.846\n",
      "Training_Time: 99.14 seconds\n",
      "train epoch[2/25] loss:0.083: 100%|██████████| 282/282 [01:18<00:00,  3.58it/s]\n",
      "valid epoch[2/25]: 100%|██████████| 55/55 [00:20<00:00,  2.64it/s]\n",
      "[epoch 2] train_loss: 0.127  train_accuracy: 95.047\n",
      "[epoch 2] val_loss: 0.478  val_accuracy: 0.844\n",
      "Training_Time: 99.64 seconds\n",
      "train epoch[3/25] loss:0.171: 100%|██████████| 282/282 [01:16<00:00,  3.69it/s]\n",
      "valid epoch[3/25]: 100%|██████████| 55/55 [00:20<00:00,  2.67it/s]\n",
      "[epoch 3] train_loss: 0.083  train_accuracy: 96.768\n",
      "[epoch 3] val_loss: 0.525  val_accuracy: 0.841\n",
      "Training_Time: 97.00 seconds\n",
      "train epoch[4/25] loss:0.066: 100%|██████████| 282/282 [01:16<00:00,  3.70it/s]\n",
      "valid epoch[4/25]: 100%|██████████| 55/55 [00:21<00:00,  2.61it/s]\n",
      "[epoch 4] train_loss: 0.066  train_accuracy: 97.525\n",
      "[epoch 4] val_loss: 0.518  val_accuracy: 0.853\n",
      "Training_Time: 97.46 seconds\n",
      "train epoch[5/25] loss:0.035: 100%|██████████| 282/282 [01:18<00:00,  3.61it/s]\n",
      "valid epoch[5/25]: 100%|██████████| 55/55 [00:20<00:00,  2.65it/s]\n",
      "[epoch 5] train_loss: 0.056  train_accuracy: 97.814\n",
      "[epoch 5] val_loss: 0.443  val_accuracy: 0.886\n",
      "Training_Time: 98.91 seconds\n",
      "train epoch[6/25] loss:0.124: 100%|██████████| 282/282 [01:16<00:00,  3.70it/s]\n",
      "valid epoch[6/25]: 100%|██████████| 55/55 [00:20<00:00,  2.64it/s]\n",
      "[epoch 6] train_loss: 0.046  train_accuracy: 98.275\n",
      "[epoch 6] val_loss: 0.675  val_accuracy: 0.838\n",
      "Training_Time: 97.06 seconds\n",
      "train epoch[7/25] loss:0.157: 100%|██████████| 282/282 [01:16<00:00,  3.71it/s]\n",
      "valid epoch[7/25]: 100%|██████████| 55/55 [00:20<00:00,  2.67it/s]\n",
      "[epoch 7] train_loss: 0.043  train_accuracy: 98.375\n",
      "[epoch 7] val_loss: 0.548  val_accuracy: 0.866\n",
      "Training_Time: 96.71 seconds\n",
      "train epoch[8/25] loss:0.059: 100%|██████████| 282/282 [01:18<00:00,  3.60it/s]\n",
      "valid epoch[8/25]: 100%|██████████| 55/55 [00:20<00:00,  2.65it/s]\n",
      "[epoch 8] train_loss: 0.035  train_accuracy: 98.746\n",
      "[epoch 8] val_loss: 0.575  val_accuracy: 0.857\n",
      "Training_Time: 99.12 seconds\n",
      "train epoch[9/25] loss:0.006: 100%|██████████| 282/282 [01:15<00:00,  3.71it/s]\n",
      "valid epoch[9/25]: 100%|██████████| 55/55 [00:20<00:00,  2.67it/s]\n",
      "[epoch 9] train_loss: 0.034  train_accuracy: 98.739\n",
      "[epoch 9] val_loss: 0.565  val_accuracy: 0.875\n",
      "Training_Time: 96.56 seconds\n",
      "train epoch[10/25] loss:0.071: 100%|██████████| 282/282 [01:15<00:00,  3.71it/s]\n",
      "valid epoch[10/25]: 100%|██████████| 55/55 [00:20<00:00,  2.68it/s]\n",
      "[epoch 10] train_loss: 0.030  train_accuracy: 98.893\n",
      "[epoch 10] val_loss: 0.821  val_accuracy: 0.835\n",
      "Training_Time: 96.48 seconds\n",
      "train epoch[11/25] loss:0.097: 100%|██████████| 282/282 [01:16<00:00,  3.69it/s]\n",
      "valid epoch[11/25]: 100%|██████████| 55/55 [00:20<00:00,  2.68it/s]\n",
      "[epoch 11] train_loss: 0.032  train_accuracy: 98.849\n",
      "[epoch 11] val_loss: 0.534  val_accuracy: 0.886\n",
      "Training_Time: 96.99 seconds\n",
      "train epoch[12/25] loss:0.127: 100%|██████████| 282/282 [01:16<00:00,  3.67it/s]\n",
      "valid epoch[12/25]: 100%|██████████| 55/55 [00:20<00:00,  2.63it/s]\n",
      "[epoch 12] train_loss: 0.031  train_accuracy: 98.878\n",
      "[epoch 12] val_loss: 0.708  val_accuracy: 0.853\n",
      "Training_Time: 97.73 seconds\n",
      "train epoch[13/25] loss:0.031: 100%|██████████| 282/282 [01:15<00:00,  3.74it/s]\n",
      "valid epoch[13/25]: 100%|██████████| 55/55 [00:20<00:00,  2.65it/s]\n",
      "[epoch 13] train_loss: 0.028  train_accuracy: 99.007\n",
      "[epoch 13] val_loss: 0.598  val_accuracy: 0.866\n",
      "Training_Time: 96.23 seconds\n",
      "train epoch[14/25] loss:0.013: 100%|██████████| 282/282 [01:17<00:00,  3.65it/s]\n",
      "valid epoch[14/25]: 100%|██████████| 55/55 [00:20<00:00,  2.66it/s]\n",
      "[epoch 14] train_loss: 0.023  train_accuracy: 99.153\n",
      "[epoch 14] val_loss: 0.576  val_accuracy: 0.869\n",
      "Training_Time: 98.04 seconds\n",
      "train epoch[15/25] loss:0.097: 100%|██████████| 282/282 [01:17<00:00,  3.63it/s]\n",
      "valid epoch[15/25]: 100%|██████████| 55/55 [00:20<00:00,  2.68it/s]\n",
      "[epoch 15] train_loss: 0.024  train_accuracy: 99.169\n",
      "[epoch 15] val_loss: 0.610  val_accuracy: 0.878\n",
      "Training_Time: 98.33 seconds\n",
      "train epoch[16/25] loss:0.061: 100%|██████████| 282/282 [01:15<00:00,  3.71it/s]\n",
      "valid epoch[16/25]: 100%|██████████| 55/55 [00:20<00:00,  2.63it/s]\n",
      "[epoch 16] train_loss: 0.021  train_accuracy: 99.286\n",
      "[epoch 16] val_loss: 0.583  val_accuracy: 0.875\n",
      "Training_Time: 96.88 seconds\n",
      "train epoch[17/25] loss:0.029: 100%|██████████| 282/282 [01:16<00:00,  3.69it/s]\n",
      "valid epoch[17/25]: 100%|██████████| 55/55 [00:20<00:00,  2.66it/s]\n",
      "[epoch 17] train_loss: 0.024  train_accuracy: 99.143\n",
      "[epoch 17] val_loss: 0.668  val_accuracy: 0.863\n",
      "Training_Time: 97.06 seconds\n",
      "train epoch[18/25] loss:0.035: 100%|██████████| 282/282 [01:17<00:00,  3.63it/s]\n",
      "valid epoch[18/25]: 100%|██████████| 55/55 [00:20<00:00,  2.65it/s]\n",
      "[epoch 18] train_loss: 0.019  train_accuracy: 99.353\n",
      "[epoch 18] val_loss: 0.661  val_accuracy: 0.883\n",
      "Training_Time: 98.39 seconds\n",
      "train epoch[19/25] loss:0.045: 100%|██████████| 282/282 [01:16<00:00,  3.68it/s]\n",
      "valid epoch[19/25]: 100%|██████████| 55/55 [00:20<00:00,  2.62it/s]\n",
      "[epoch 19] train_loss: 0.024  train_accuracy: 99.171\n",
      "[epoch 19] val_loss: 0.736  val_accuracy: 0.846\n",
      "Training_Time: 97.53 seconds\n",
      "train epoch[20/25] loss:0.069: 100%|██████████| 282/282 [01:15<00:00,  3.73it/s]\n",
      "valid epoch[20/25]: 100%|██████████| 55/55 [00:20<00:00,  2.62it/s]\n",
      "[epoch 20] train_loss: 0.018  train_accuracy: 99.378\n",
      "[epoch 20] val_loss: 0.831  val_accuracy: 0.853\n",
      "Training_Time: 96.65 seconds\n",
      "train epoch[21/25] loss:0.026: 100%|██████████| 282/282 [01:18<00:00,  3.60it/s]\n",
      "valid epoch[21/25]: 100%|██████████| 55/55 [00:21<00:00,  2.50it/s]\n",
      "[epoch 21] train_loss: 0.023  train_accuracy: 99.186\n",
      "[epoch 21] val_loss: 0.743  val_accuracy: 0.862\n",
      "Training_Time: 100.38 seconds\n",
      "train epoch[22/25] loss:0.049: 100%|██████████| 282/282 [01:17<00:00,  3.65it/s]\n",
      "valid epoch[22/25]: 100%|██████████| 55/55 [00:21<00:00,  2.61it/s]\n",
      "[epoch 22] train_loss: 0.017  train_accuracy: 99.433\n",
      "[epoch 22] val_loss: 0.767  val_accuracy: 0.867\n",
      "Training_Time: 98.49 seconds\n",
      "train epoch[23/25] loss:0.009: 100%|██████████| 282/282 [01:16<00:00,  3.68it/s]\n",
      "valid epoch[23/25]: 100%|██████████| 55/55 [00:20<00:00,  2.69it/s]\n",
      "[epoch 23] train_loss: 0.019  train_accuracy: 99.333\n",
      "[epoch 23] val_loss: 0.651  val_accuracy: 0.882\n",
      "Training_Time: 97.11 seconds\n",
      "train epoch[24/25] loss:0.026: 100%|██████████| 282/282 [01:17<00:00,  3.66it/s]\n",
      "valid epoch[24/25]: 100%|██████████| 55/55 [00:20<00:00,  2.66it/s]\n",
      "[epoch 24] train_loss: 0.016  train_accuracy: 99.417\n",
      "[epoch 24] val_loss: 0.828  val_accuracy: 0.843\n",
      "Training_Time: 97.69 seconds\n",
      "train epoch[25/25] loss:0.092: 100%|██████████| 282/282 [01:14<00:00,  3.76it/s]\n",
      "valid epoch[25/25]: 100%|██████████| 55/55 [00:21<00:00,  2.61it/s]\n",
      "[epoch 25] train_loss: 0.017  train_accuracy: 99.446\n",
      "[epoch 25] val_loss: 0.827  val_accuracy: 0.855\n",
      "Training_Time: 96.03 seconds\n",
      "訓練完成\n"
     ]
    }
   ],
   "source": [
    "import time\n",
    "import sys\n",
    "from tqdm import tqdm\n",
    "# 訓練和驗證模型\n",
    "num_epochs = 25\n",
    "best_acc = 0.0\n",
    "train_steps = len(train_loader)\n",
    "save_path = 'best_shufflenetV2_1_5.pth'\n",
    "t_l, t_a = [], []\n",
    "v_l, v_a = [], []\n",
    "for epoch in range(num_epochs):\n",
    "    start_time = time.time()\n",
    "    train_loss, train_accuracy = train(epoch, num_epochs, model, train_loader, optimizer, criterion, device)\n",
    "    val_loss, val_accurate = validate(epoch, num_epochs, model, val_loader, criterion, device)\n",
    "    t_l.append(train_loss)\n",
    "    t_a.append(train_accuracy)\n",
    "    v_l.append(val_loss)\n",
    "    v_a.append(val_accurate)\n",
    "    \n",
    "    print('[epoch %d] train_loss: %.3f  train_accuracy: %.3f' %\n",
    "            (epoch + 1, train_loss, train_accuracy))\n",
    "    print('[epoch %d] val_loss: %.3f  val_accuracy: %.3f' %\n",
    "            (epoch + 1, val_loss, val_accurate))\n",
    "    \n",
    "    if val_accurate > best_acc:\n",
    "        best_acc = val_accurate\n",
    "        torch.save(model.state_dict(), save_path)\n",
    "    end_time = time.time()\n",
    "    print(f'Training_Time: {end_time - start_time:.2f} seconds')\n",
    "    \n",
    "print('訓練完成')"
   ]
  },
  {
   "cell_type": "code",
   "execution_count": 17,
   "id": "8d4eaf01-4a66-41b2-82a6-20b699bf3063",
   "metadata": {
    "tags": []
   },
   "outputs": [
    {
     "name": "stdout",
     "output_type": "stream",
     "text": [
      "Test Acc: 0.8783\n"
     ]
    }
   ],
   "source": [
    "# 測試模型\n",
    "model.load_state_dict(torch.load('best_shufflenetV2_1_5.pth'))\n",
    "model.eval()\n",
    "test_running_corrects = 0\n",
    "\n",
    "with torch.no_grad():\n",
    "    for inputs, labels in test_loader:\n",
    "        inputs = inputs.to(device)\n",
    "        labels = labels.to(device)\n",
    "\n",
    "        outputs = model(inputs)\n",
    "        _, preds = torch.max(outputs, 1)\n",
    "        test_running_corrects += torch.sum(preds == labels.data)\n",
    "\n",
    "test_acc = test_running_corrects.double() / len(test_dataset)\n",
    "print(f'Test Acc: {test_acc:.4f}')"
   ]
  },
  {
   "cell_type": "code",
   "execution_count": 18,
   "id": "609924a2-c4fb-4bf1-999f-f6258943942c",
   "metadata": {
    "tags": []
   },
   "outputs": [],
   "source": [
    "def save_metrics_to_file(t_l, t_a, v_l, v_a, filename='metrics.txt'):\n",
    "    with open(filename, 'w') as file:\n",
    "        file.write(\"Train Loss:\\n\")\n",
    "        for item in t_l:\n",
    "            file.write(f\"{item}\\n\")\n",
    "        \n",
    "        file.write(\"Train Accuracy:\\n\")\n",
    "        for item in t_a:\n",
    "            file.write(f\"{item}\\n\")\n",
    "        \n",
    "        file.write(\"Validation Loss:\\n\")\n",
    "        for item in v_l:\n",
    "            file.write(f\"{item}\\n\")\n",
    "        \n",
    "        file.write(\"Validation Accuracy:\\n\")\n",
    "        for item in v_a:\n",
    "            file.write(f\"{item}\\n\")"
   ]
  },
  {
   "cell_type": "code",
   "execution_count": 19,
   "id": "e5e8b28c-18b5-4e90-b41c-623a47c62434",
   "metadata": {
    "tags": []
   },
   "outputs": [],
   "source": [
    "# 假設 t_l, t_a, v_l, v_a 已經被填充\n",
    "filename = 'shufflenetV2.txt'\n",
    "save_metrics_to_file(t_l, t_a, v_l, v_a, filename)"
   ]
  },
  {
   "cell_type": "code",
   "execution_count": 20,
   "id": "38dc01d0-35eb-410d-8644-9347836c50a5",
   "metadata": {
    "tags": []
   },
   "outputs": [
    {
     "name": "stdout",
     "output_type": "stream",
     "text": [
      "Test Acc of Celeb DF V2: 0.7380\n"
     ]
    }
   ],
   "source": [
    "test_celeb_dataset = datasets.ImageFolder(root='../CelebDF_v2/extracted_frames', transform=transform)\n",
    "celeb_loader = DataLoader(test_celeb_dataset, batch_size=256, shuffle=False, num_workers=2)\n",
    "\n",
    "# 測試模型\n",
    "model.load_state_dict(torch.load('best_shufflenetV2_1_5.pth'))\n",
    "model.eval()\n",
    "test_running_corrects = 0\n",
    "\n",
    "with torch.no_grad():\n",
    "    for inputs, labels in celeb_loader:\n",
    "        inputs = inputs.to(device)\n",
    "        labels = labels.to(device)\n",
    "\n",
    "        outputs = model(inputs)\n",
    "        _, preds = torch.max(outputs, 1)\n",
    "        test_running_corrects += torch.sum(preds == labels.data)\n",
    "\n",
    "test_acc = test_running_corrects.double() / len(test_dataset)\n",
    "print(f'Test Acc of Celeb DF V2: {test_acc:.4f}')"
   ]
  },
  {
   "cell_type": "code",
   "execution_count": 45,
   "id": "960cd32d-3d55-428a-bd16-d0be9152f38c",
   "metadata": {},
   "outputs": [],
   "source": [
    "# 使用 TorchScript 將模型保存為 .pt 文件\n",
    "import torch\n",
    "\n",
    "# 加載預訓練的 MobileNetV3 大模型\n",
    "model = shufflenet_v2_x1_5(num_classes = 2)\n",
    "model.load_state_dict(torch.load('best_shufflenetV2_1_5.pth'))\n",
    "model.eval()\n",
    "\n",
    "example_input = torch.rand(1, 3, 224, 224)\n",
    "traced_script_module = torch.jit.trace(model, example_input)\n",
    "torch.jit.save(traced_script_module, 'shufflenetV2_jit.pt')"
   ]
  }
 ],
 "metadata": {
  "kernelspec": {
   "display_name": "dl",
   "language": "python",
   "name": "dl"
  },
  "language_info": {
   "codemirror_mode": {
    "name": "ipython",
    "version": 3
   },
   "file_extension": ".py",
   "mimetype": "text/x-python",
   "name": "python",
   "nbconvert_exporter": "python",
   "pygments_lexer": "ipython3",
   "version": "3.11.8"
  }
 },
 "nbformat": 4,
 "nbformat_minor": 5
}
